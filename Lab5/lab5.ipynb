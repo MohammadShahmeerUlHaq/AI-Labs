{
  "cells": [
    {
      "cell_type": "code",
      "execution_count": 3,
      "metadata": {
        "colab": {
          "base_uri": "https://localhost:8080/"
        },
        "id": "IKi0z9OHQYuy",
        "outputId": "e3605562-4f93-400a-e1a1-3f66b6c70d4c"
      },
      "outputs": [
        {
          "name": "stdout",
          "output_type": "stream",
          "text": [
            "Best Move Sequence ->  ['e2->e3', 'g1->h3']\n",
            "Evaluation Score ->  0\n"
          ]
        }
      ],
      "source": [
        "#task 1\n",
        "\n",
        "PIECE_VALUES = {'P': 1, 'N': 3, 'B': 3, 'R': 5, 'Q': 9, 'K': 0,  # White pieces\n",
        "                'p': -1, 'n': -3, 'b': -3, 'r': -5, 'q': -9, 'k': 0}  # Black pieces\n",
        "\n",
        "INITIAL_BOARD = {\n",
        "    \"e2\": \"P\", \"d7\": \"p\", \"g1\": \"N\", \"b8\": \"n\",  # Pawns and knights\n",
        "    \"e1\": \"K\", \"e8\": \"k\", \"d1\": \"Q\", \"d8\": \"q\",  # Kings and Queens\n",
        "}\n",
        "\n",
        "def evaluate_board(board):\n",
        "    \"\"\"Basic evaluation: sum of piece values.\"\"\"\n",
        "    return sum(PIECE_VALUES.get(piece, 0) for piece in board.values())\n",
        "\n",
        "def generate_moves(board, is_white):\n",
        "    \"\"\"\n",
        "    Generates simple pseudo-moves for pawns and knights.\n",
        "    Only considers a few valid moves for simplicity.\n",
        "    \"\"\"\n",
        "    moves = []\n",
        "    for pos, piece in board.items():\n",
        "        if is_white and piece == \"P\":  # White pawn\n",
        "            new_pos = pos[0] + str(int(pos[1]) + 1)\n",
        "            if new_pos not in board:\n",
        "                moves.append((pos, new_pos))\n",
        "        elif not is_white and piece == \"p\":  # Black pawn\n",
        "            new_pos = pos[0] + str(int(pos[1]) - 1)\n",
        "            if new_pos not in board:\n",
        "                moves.append((pos, new_pos))\n",
        "        elif piece in \"Nn\":  # Knights\n",
        "            knight_moves = [(2, 1), (1, 2), (-1, 2), (-2, 1),\n",
        "                            (-2, -1), (-1, -2), (1, -2), (2, -1)]\n",
        "            for dx, dy in knight_moves:\n",
        "                new_file = chr(ord(pos[0]) + dx)\n",
        "                new_rank = str(int(pos[1]) + dy)\n",
        "                new_pos = new_file + new_rank\n",
        "                if \"a\" <= new_file <= \"h\" and \"1\" <= new_rank <= \"8\" and (new_pos not in board or board[new_pos].islower() != is_white):\n",
        "                    moves.append((pos, new_pos))\n",
        "\n",
        "    return moves\n",
        "\n",
        "def apply_move(board, move):\n",
        "    new_board = board.copy()\n",
        "    start, end = move\n",
        "    new_board[end] = new_board.pop(start)  # Move piece\n",
        "    return new_board\n",
        "\n",
        "def beam_search(board, beam_width, depth_limit, is_white=True):\n",
        "    beam = [(board, [], evaluate_board(board))]  # (board, move_sequence, score)\n",
        "\n",
        "    for _ in range(depth_limit):\n",
        "        candidates = []\n",
        "\n",
        "        for state, moves, score in beam:\n",
        "            legal_moves = generate_moves(state, is_white)\n",
        "            for move in legal_moves:\n",
        "                new_state = apply_move(state, move)\n",
        "                new_score = evaluate_board(new_state)\n",
        "                candidates.append((new_state, moves + [move], new_score))\n",
        "\n",
        "        beam = sorted(candidates, key=lambda x: x[2], reverse=is_white)[:beam_width]\n",
        "\n",
        "    return beam[0][1], beam[0][2]\n",
        "\n",
        "best_moves, eval_score = beam_search(INITIAL_BOARD, beam_width=2, depth_limit=2)\n",
        "print(\"Best Move Sequence -> \", [f\"{start}->{end}\" for start, end in best_moves])\n",
        "print(\"Evaluation Score -> \", eval_score)\n"
      ]
    },
    {
      "cell_type": "code",
      "execution_count": 4,
      "metadata": {},
      "outputs": [
        {
          "name": "stdout",
          "output_type": "stream",
          "text": [
            "Optimized Route -> [(0, 0), (6, 1), (5, 4), (7, 8), (3, 6), (2, 3)]\n",
            "Total Distance ->  24.957141036098122\n"
          ]
        }
      ],
      "source": [
        "#task 2\n",
        "\n",
        "import random\n",
        "import math\n",
        "\n",
        "def distance(point1, point2):\n",
        "    return math.sqrt((point1[0] - point2[0]) ** 2 + (point1[1] - point2[1]) ** 2)\n",
        "\n",
        "def total_distance(route):\n",
        "    return sum(distance(route[i], route[i + 1]) for i in range(len(route) - 1)) + distance(route[-1], route[0])\n",
        "\n",
        "def hill_climb(locations, max_iterations=1000):\n",
        "    current_route = locations[:]\n",
        "    random.shuffle(current_route)\n",
        "    current_distance = total_distance(current_route)\n",
        "\n",
        "    for _ in range(max_iterations):\n",
        "        i, j = sorted(random.sample(range(len(locations)), 2))\n",
        "        new_route = current_route[:]\n",
        "        new_route[i:j + 1] = reversed(new_route[i:j + 1])\n",
        "        new_distance = total_distance(new_route)\n",
        "\n",
        "        if new_distance < current_distance:\n",
        "            current_route, current_distance = new_route, new_distance\n",
        "\n",
        "    return current_route, current_distance\n",
        "\n",
        "locations = [(0, 0), (2, 3), (5, 4), (7, 8), (6, 1), (3, 6)]\n",
        "optimized_route, total_dist = hill_climb(locations)\n",
        "\n",
        "print(\"Optimized Route ->\", optimized_route)\n",
        "print(\"Total Distance -> \", total_dist)\n"
      ]
    },
    {
      "cell_type": "code",
      "execution_count": 5,
      "metadata": {},
      "outputs": [
        {
          "name": "stdout",
          "output_type": "stream",
          "text": [
            "Best Route ->  [(14, 57), (17, 24), (10, 16), (95, 12), (95, 22), (75, 48), (98, 77), (22, 88), (3, 99), (12, 75)]\n",
            "Best Distance ->  351.1654510139921\n"
          ]
        }
      ],
      "source": [
        "#task 3\n",
        "\n",
        "import random\n",
        "import math\n",
        "\n",
        "def distance(point1, point2):\n",
        "    return math.sqrt((point1[0] - point2[0]) ** 2 + (point1[1] - point2[1]) ** 2)\n",
        "\n",
        "def total_distance(route):\n",
        "    return sum(distance(route[i], route[i + 1]) for i in range(len(route) - 1)) + distance(route[-1], route[0])\n",
        "\n",
        "def create_population(cities, size):\n",
        "    return [random.sample(cities, len(cities)) for _ in range(size)]\n",
        "\n",
        "def select_parents(population):\n",
        "    return sorted(population, key=total_distance)[:2]\n",
        "\n",
        "def crossover(parent1, parent2):\n",
        "    start, end = sorted(random.sample(range(len(parent1)), 2))\n",
        "    child = parent1[start:end + 1] + [city for city in parent2 if city not in parent1[start:end + 1]]\n",
        "    return child\n",
        "\n",
        "def mutate(route, mutation_rate=0.1):\n",
        "    if random.random() < mutation_rate:\n",
        "        i, j = random.sample(range(len(route)), 2)\n",
        "        route[i], route[j] = route[j], route[i]\n",
        "    return route\n",
        "\n",
        "def genetic_algorithm(cities, population_size=100, generations=500):\n",
        "    population = create_population(cities, population_size)\n",
        "\n",
        "    for _ in range(generations):\n",
        "        parents = select_parents(population)\n",
        "        offspring = [mutate(crossover(parents[0], parents[1])) for _ in range(population_size)]\n",
        "        population = parents + offspring\n",
        "\n",
        "    best_route = min(population, key=total_distance)\n",
        "    return best_route, total_distance(best_route)\n",
        "\n",
        "cities = [(random.randint(0, 100), random.randint(0, 100)) for _ in range(10)]\n",
        "best_route, best_distance = genetic_algorithm(cities)\n",
        "\n",
        "print(\"Best Route -> \", best_route)\n",
        "print(\"Best Distance -> \", best_distance)\n"
      ]
    }
  ],
  "metadata": {
    "colab": {
      "provenance": []
    },
    "kernelspec": {
      "display_name": "Python 3",
      "name": "python3"
    },
    "language_info": {
      "codemirror_mode": {
        "name": "ipython",
        "version": 3
      },
      "file_extension": ".py",
      "mimetype": "text/x-python",
      "name": "python",
      "nbconvert_exporter": "python",
      "pygments_lexer": "ipython3",
      "version": "3.11.0"
    }
  },
  "nbformat": 4,
  "nbformat_minor": 0
}
